{
 "cells": [
  {
   "cell_type": "code",
   "execution_count": 2,
   "id": "aeda4d2a-bf42-436a-9e07-4938d54fe3ac",
   "metadata": {},
   "outputs": [
    {
     "name": "stdout",
     "output_type": "stream",
     "text": [
      "Progress |██████████████████████████████████████████████████| 100.0% Complete\n"
     ]
    },
    {
     "ename": "NameError",
     "evalue": "name 'a' is not defined",
     "output_type": "error",
     "traceback": [
      "\u001b[0;31m---------------------------------------------------------------------------\u001b[0m",
      "\u001b[0;31mNameError\u001b[0m                                 Traceback (most recent call last)",
      "Cell \u001b[0;32mIn[2], line 15\u001b[0m\n\u001b[1;32m     13\u001b[0m \u001b[38;5;66;03m# Example usage\u001b[39;00m\n\u001b[1;32m     14\u001b[0m custom_loading_bar(\u001b[38;5;241m100\u001b[39m)\n\u001b[0;32m---> 15\u001b[0m \u001b[43ma\u001b[49m\n",
      "\u001b[0;31mNameError\u001b[0m: name 'a' is not defined"
     ]
    }
   ],
   "source": [
    "import time\n",
    "import sys\n",
    "\n",
    "def custom_loading_bar(total, prefix='Progress', suffix='Complete', length=50, fill='█'):\n",
    "    for i in range(total + 1):\n",
    "        percent = (\"{0:.1f}\").format(100 * (i / float(total)))\n",
    "        filled_length = int(length * i // total)\n",
    "        bar = fill * filled_length + '-' * (length - filled_length)\n",
    "        print(f'\\r{prefix} |{bar}| {percent}% {suffix}', end='\\r')\n",
    "        time.sleep(0.1)\n",
    "    print()  # Newline on complete\n",
    "\n",
    "# Example usage\n",
    "custom_loading_bar(100)"
   ]
  },
  {
   "cell_type": "code",
   "execution_count": null,
   "id": "4854ba0c-9f58-4bca-8439-96f5e3ee4d36",
   "metadata": {},
   "outputs": [],
   "source": []
  }
 ],
 "metadata": {
  "kernelspec": {
   "display_name": "Python 3 (ipykernel)",
   "language": "python",
   "name": "python3"
  },
  "language_info": {
   "codemirror_mode": {
    "name": "ipython",
    "version": 3
   },
   "file_extension": ".py",
   "mimetype": "text/x-python",
   "name": "python",
   "nbconvert_exporter": "python",
   "pygments_lexer": "ipython3",
   "version": "3.13.0"
  }
 },
 "nbformat": 4,
 "nbformat_minor": 5
}
