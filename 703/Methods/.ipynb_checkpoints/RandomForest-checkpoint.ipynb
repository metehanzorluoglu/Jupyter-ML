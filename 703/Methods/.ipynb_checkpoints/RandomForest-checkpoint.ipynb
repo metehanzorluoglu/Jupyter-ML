{
 "cells": [
  {
   "cell_type": "code",
   "execution_count": null,
   "id": "a9a3bcf1-6539-463a-afe4-59e188717bd5",
   "metadata": {},
   "outputs": [],
   "source": [
    "import pandas as pd\n",
    "from sklearn.model_selection import train_test_split\n",
    "from sklearn.metrics import classification_report"
   ]
  },
  {
   "cell_type": "code",
   "execution_count": null,
   "id": "fda69bb1-82e8-4e28-ae41-a9de6cb8a680",
   "metadata": {},
   "outputs": [],
   "source": [
    "from sklearn.ensemble import RandomForestClassifier"
   ]
  },
  {
   "cell_type": "code",
   "execution_count": null,
   "id": "a45895d3-4fd7-49d6-ad78-5ee309d5ad71",
   "metadata": {},
   "outputs": [],
   "source": [
    "df = pd.read_csv('CleanElementry.csv', encoding = 'latin-1')\n",
    "\n",
    "num_columns = df.shape[1]\n",
    "\n",
    "X = df.iloc[:, 0:(num_columns - 1)]\n",
    "y = df.iloc[:, (num_columns - 1)]\n",
    "\n",
    "X_train, X_test, y_train, y_test = train_test_split(X, y, random_state = 33, test_size = 0.2)"
   ]
  },
  {
   "cell_type": "code",
   "execution_count": null,
   "id": "11e11488-46c5-48bd-8743-d2468580c470",
   "metadata": {},
   "outputs": [],
   "source": [
    "rf = RandomForestClassifier()\n",
    "rf.fit(X_train, y_train)\n",
    "y_pred = rf.predict(X_test)\n",
    "rf.score(X_test, y_test)\n",
    "print(classification_report(y_test, y_pred))\n",
    "\n",
    "#feature = pd.DataFrame(rf.feature_importances_, index = X.columns)\n",
    "#feature.head(1)"
   ]
  },
  {
   "cell_type": "code",
   "execution_count": null,
   "id": "1ad2c905-a6a9-49d2-9bd6-a7f27425bbec",
   "metadata": {},
   "outputs": [],
   "source": [
    "rf2 = RandomForestClassifier(\n",
    "    n_estimators= 1000,\n",
    "    criterion= 'entropy',\n",
    "    max_depth= 14,\n",
    "    random_state= 42\n",
    ")\n",
    "\n",
    "rf2.fit(X_train, y_train)\n",
    "rf2.score(X_test, y_test)\n",
    "y_pred2 = rf2.predict(X_test)\n",
    "print(classification_report(y_test, y_pred2))"
   ]
  },
  {
   "cell_type": "code",
   "execution_count": null,
   "id": "ae617c98-3e4c-463f-8f91-6df41fb524fa",
   "metadata": {},
   "outputs": [],
   "source": []
  }
 ],
 "metadata": {
  "kernelspec": {
   "display_name": "Python 3 (ipykernel)",
   "language": "python",
   "name": "python3"
  },
  "language_info": {
   "codemirror_mode": {
    "name": "ipython",
    "version": 3
   },
   "file_extension": ".py",
   "mimetype": "text/x-python",
   "name": "python",
   "nbconvert_exporter": "python",
   "pygments_lexer": "ipython3",
   "version": "3.9.13"
  }
 },
 "nbformat": 4,
 "nbformat_minor": 5
}
