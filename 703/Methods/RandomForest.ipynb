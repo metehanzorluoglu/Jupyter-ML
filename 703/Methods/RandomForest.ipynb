{
 "cells": [
  {
   "cell_type": "code",
   "execution_count": 85,
   "id": "a9a3bcf1-6539-463a-afe4-59e188717bd5",
   "metadata": {},
   "outputs": [],
   "source": [
    "import pandas as pd\n",
    "from sklearn.model_selection import train_test_split\n",
    "from sklearn.metrics import classification_report\n",
    "from sklearn.metrics import mean_absolute_error, r2_score"
   ]
  },
  {
   "cell_type": "code",
   "execution_count": 86,
   "id": "fda69bb1-82e8-4e28-ae41-a9de6cb8a680",
   "metadata": {},
   "outputs": [],
   "source": [
    "from sklearn.ensemble import RandomForestClassifier"
   ]
  },
  {
   "cell_type": "code",
   "execution_count": 87,
   "id": "a45895d3-4fd7-49d6-ad78-5ee309d5ad71",
   "metadata": {},
   "outputs": [],
   "source": [
    "df = pd.read_csv('CleanElementry.csv', encoding = 'latin-1')\n",
    "\n",
    "#num_columns = df.shape[1]\n",
    "\n",
    "#X = df.iloc[:, 0:(num_columns - 1)]\n",
    "#y = df.iloc[:, (num_columns - 1)]\n",
    "\n",
    "X = df[['Pre_RI_Interest', 'Post_RI_Competence', 'Pre_RI_Competence', 'Post_Final', 'Pre_Final']]\n",
    "y = df['Post_RI_Interest']\n",
    "\n",
    "X_train, X_test, y_train, y_test = train_test_split(X, y, test_size=0.2, random_state=42)"
   ]
  },
  {
   "cell_type": "code",
   "execution_count": 88,
   "id": "11e11488-46c5-48bd-8743-d2468580c470",
   "metadata": {},
   "outputs": [
    {
     "name": "stdout",
     "output_type": "stream",
     "text": [
      "              precision    recall  f1-score   support\n",
      "\n",
      "           0       0.60      0.38      0.46         8\n",
      "           3       0.10      0.50      0.17         2\n",
      "           6       0.33      0.22      0.27         9\n",
      "           9       0.29      0.40      0.33         5\n",
      "          12       0.00      0.00      0.00         3\n",
      "          15       0.00      0.00      0.00         3\n",
      "          18       0.50      0.25      0.33         4\n",
      "          21       0.00      0.00      0.00         1\n",
      "\n",
      "    accuracy                           0.26        35\n",
      "   macro avg       0.23      0.22      0.20        35\n",
      "weighted avg       0.33      0.26      0.27        35\n",
      "\n"
     ]
    },
    {
     "name": "stderr",
     "output_type": "stream",
     "text": [
      "/usr/local/lib/python3.9/site-packages/sklearn/metrics/_classification.py:1531: UndefinedMetricWarning: Precision is ill-defined and being set to 0.0 in labels with no predicted samples. Use `zero_division` parameter to control this behavior.\n",
      "  _warn_prf(average, modifier, f\"{metric.capitalize()} is\", len(result))\n",
      "/usr/local/lib/python3.9/site-packages/sklearn/metrics/_classification.py:1531: UndefinedMetricWarning: Precision is ill-defined and being set to 0.0 in labels with no predicted samples. Use `zero_division` parameter to control this behavior.\n",
      "  _warn_prf(average, modifier, f\"{metric.capitalize()} is\", len(result))\n",
      "/usr/local/lib/python3.9/site-packages/sklearn/metrics/_classification.py:1531: UndefinedMetricWarning: Precision is ill-defined and being set to 0.0 in labels with no predicted samples. Use `zero_division` parameter to control this behavior.\n",
      "  _warn_prf(average, modifier, f\"{metric.capitalize()} is\", len(result))\n"
     ]
    }
   ],
   "source": [
    "rf = RandomForestClassifier(random_state=42)\n",
    "rf.fit(X_train, y_train)\n",
    "y_pred = rf.predict(X_test)\n",
    "rf.score(X_test, y_test)\n",
    "print(classification_report(y_test, y_pred))\n",
    "\n",
    "#feature = pd.DataFrame(rf.feature_importances_, index = X.columns)\n",
    "#feature.head(1)"
   ]
  },
  {
   "cell_type": "code",
   "execution_count": 89,
   "id": "1ad2c905-a6a9-49d2-9bd6-a7f27425bbec",
   "metadata": {},
   "outputs": [
    {
     "name": "stdout",
     "output_type": "stream",
     "text": [
      "              precision    recall  f1-score   support\n",
      "\n",
      "           0       0.75      0.38      0.50         8\n",
      "           3       0.25      1.00      0.40         2\n",
      "           6       0.40      0.22      0.29         9\n",
      "           9       0.18      0.40      0.25         5\n",
      "          12       0.00      0.00      0.00         3\n",
      "          15       0.00      0.00      0.00         3\n",
      "          18       0.50      0.25      0.33         4\n",
      "          21       0.00      0.00      0.00         1\n",
      "\n",
      "    accuracy                           0.29        35\n",
      "   macro avg       0.26      0.28      0.22        35\n",
      "weighted avg       0.37      0.29      0.28        35\n",
      "\n"
     ]
    },
    {
     "name": "stderr",
     "output_type": "stream",
     "text": [
      "/usr/local/lib/python3.9/site-packages/sklearn/metrics/_classification.py:1531: UndefinedMetricWarning: Precision is ill-defined and being set to 0.0 in labels with no predicted samples. Use `zero_division` parameter to control this behavior.\n",
      "  _warn_prf(average, modifier, f\"{metric.capitalize()} is\", len(result))\n",
      "/usr/local/lib/python3.9/site-packages/sklearn/metrics/_classification.py:1531: UndefinedMetricWarning: Precision is ill-defined and being set to 0.0 in labels with no predicted samples. Use `zero_division` parameter to control this behavior.\n",
      "  _warn_prf(average, modifier, f\"{metric.capitalize()} is\", len(result))\n",
      "/usr/local/lib/python3.9/site-packages/sklearn/metrics/_classification.py:1531: UndefinedMetricWarning: Precision is ill-defined and being set to 0.0 in labels with no predicted samples. Use `zero_division` parameter to control this behavior.\n",
      "  _warn_prf(average, modifier, f\"{metric.capitalize()} is\", len(result))\n"
     ]
    }
   ],
   "source": [
    "rf2 = RandomForestClassifier(\n",
    "    n_estimators= 1000,\n",
    "    criterion= 'entropy',\n",
    "    max_depth= 14,\n",
    "    random_state= 42\n",
    ")\n",
    "\n",
    "rf2.fit(X_train, y_train)\n",
    "rf2.score(X_test, y_test)\n",
    "y_pred2 = rf2.predict(X_test)\n",
    "\n",
    "print(classification_report(y_test, y_pred2))"
   ]
  },
  {
   "cell_type": "code",
   "execution_count": 90,
   "id": "85516bbb-ee58-4eb6-ba9e-7c656ad9ad69",
   "metadata": {},
   "outputs": [
    {
     "data": {
      "text/plain": [
       "0.15726109857035386"
      ]
     },
     "execution_count": 90,
     "metadata": {},
     "output_type": "execute_result"
    }
   ],
   "source": [
    "r2_new = r2_score(y_test, y_pred)\n",
    "r2_new2 = r2_score(y_test, y_pred2)\n",
    "r2_new"
   ]
  },
  {
   "cell_type": "code",
   "execution_count": 91,
   "id": "ae617c98-3e4c-463f-8f91-6df41fb524fa",
   "metadata": {},
   "outputs": [
    {
     "data": {
      "text/plain": [
       "0.23626787057938325"
      ]
     },
     "execution_count": 91,
     "metadata": {},
     "output_type": "execute_result"
    }
   ],
   "source": [
    "r2_new2"
   ]
  },
  {
   "cell_type": "code",
   "execution_count": null,
   "id": "652c84ea-a7c3-490d-9c55-f80dfcb503a4",
   "metadata": {},
   "outputs": [],
   "source": []
  }
 ],
 "metadata": {
  "kernelspec": {
   "display_name": "Python 3 (ipykernel)",
   "language": "python",
   "name": "python3"
  },
  "language_info": {
   "codemirror_mode": {
    "name": "ipython",
    "version": 3
   },
   "file_extension": ".py",
   "mimetype": "text/x-python",
   "name": "python",
   "nbconvert_exporter": "python",
   "pygments_lexer": "ipython3",
   "version": "3.9.13"
  }
 },
 "nbformat": 4,
 "nbformat_minor": 5
}
