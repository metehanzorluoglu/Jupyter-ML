{
 "cells": [
  {
   "cell_type": "code",
   "execution_count": 10,
   "id": "eccfcbba-e001-48e9-ba71-ddf64ce35f47",
   "metadata": {},
   "outputs": [],
   "source": [
    "import pandas as pd\n",
    "\n",
    "df = pd.read_csv('TeacherData.csv', encoding = 'latin-1')\n",
    "\n",
    "mean = df['TOTAL SCORE'].mean()\n",
    "mean = round(mean)\n",
    "\n",
    "# Set value 30 for column B where column A equals 5\n",
    "df.loc[df['Code'] == 5, 'TOTAL SCORE'] = mean\n",
    "df\n",
    "\n",
    "df.to_csv('TeacherDataSudo.csv', index=False)"
   ]
  },
  {
   "cell_type": "code",
   "execution_count": null,
   "id": "a7663ad5-f5da-48a8-bf03-dbe7950ebc80",
   "metadata": {},
   "outputs": [],
   "source": []
  }
 ],
 "metadata": {
  "kernelspec": {
   "display_name": "Python 3 (ipykernel)",
   "language": "python",
   "name": "python3"
  },
  "language_info": {
   "codemirror_mode": {
    "name": "ipython",
    "version": 3
   },
   "file_extension": ".py",
   "mimetype": "text/x-python",
   "name": "python",
   "nbconvert_exporter": "python",
   "pygments_lexer": "ipython3",
   "version": "3.9.13"
  }
 },
 "nbformat": 4,
 "nbformat_minor": 5
}
