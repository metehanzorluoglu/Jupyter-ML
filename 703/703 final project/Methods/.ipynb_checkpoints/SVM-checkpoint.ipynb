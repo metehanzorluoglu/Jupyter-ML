{
 "cells": [
  {
   "cell_type": "code",
   "execution_count": 1,
   "id": "f3220b07-1e75-48a9-90b1-e0419a42d1f5",
   "metadata": {},
   "outputs": [],
   "source": [
    "import pandas as pd\n",
    "import matplotlib.pyplot as plt\n",
    "from sklearn.model_selection import train_test_split\n",
    "from sklearn.metrics import classification_report"
   ]
  },
  {
   "cell_type": "code",
   "execution_count": null,
   "id": "b45458bf-1f99-46e3-8a53-81af06592a94",
   "metadata": {},
   "outputs": [],
   "source": [
    "from sklearn.svm import SVC"
   ]
  },
  {
   "cell_type": "code",
   "execution_count": null,
   "id": "afb3a8f9-1437-4ef3-92ee-485f4d1f350b",
   "metadata": {},
   "outputs": [],
   "source": [
    "df = pd.read_csv('CleanElementry.csv', encoding = 'latin-1')\n",
    "\n",
    "num_columns = df.shape[1]\n",
    "\n",
    "X = df.iloc[:, 0:(num_columns - 1)]\n",
    "y = df.iloc[:, (num_columns - 1)]\n",
    "\n",
    "X_train, X_test, y_train, y_test = train_test_split(X, y, random_state = 33, test_size = 0.2)"
   ]
  },
  {
   "cell_type": "code",
   "execution_count": null,
   "id": "3b449b3a-0f00-4230-89a8-097b0468524d",
   "metadata": {},
   "outputs": [],
   "source": [
    "#Normalization"
   ]
  },
  {
   "cell_type": "code",
   "execution_count": null,
   "id": "759a810a-eb2d-4178-ab5c-de7bb345c9c2",
   "metadata": {},
   "outputs": [],
   "source": [
    "model = SVC()\n",
    "\n",
    "model.fit(X_train, y_train)\n",
    "\n",
    "model.score(X_test, y_test)"
   ]
  },
  {
   "cell_type": "code",
   "execution_count": null,
   "id": "9462fe4f-e22c-42e3-bdba-61eced764851",
   "metadata": {},
   "outputs": [],
   "source": [
    "model_reg0 = SVC(C = 0.1)\n",
    "\n",
    "model_reg0.fit(X_train, y_train)\n",
    "\n",
    "model_reg0.score(X_test, y_test)"
   ]
  },
  {
   "cell_type": "code",
   "execution_count": null,
   "id": "0eccc3aa-41d5-4972-a57e-1c4ed6f1ac52",
   "metadata": {},
   "outputs": [],
   "source": [
    "model_reg1 = SVC(C = 1000)\n",
    "\n",
    "model_reg1.fit(X_train, y_train)\n",
    "\n",
    "model_reg1.score(X_test, y_test)"
   ]
  },
  {
   "cell_type": "code",
   "execution_count": null,
   "id": "1b72fd19-1044-4692-9c13-1a52a5ba3638",
   "metadata": {},
   "outputs": [],
   "source": [
    "#Gamma"
   ]
  },
  {
   "cell_type": "code",
   "execution_count": null,
   "id": "b12a0459-fd96-4753-9ccc-5f5c3539cafd",
   "metadata": {},
   "outputs": [],
   "source": [
    "model_gamma0 = SVC(gamma= 0.1)\n",
    "\n",
    "model_gamma0.fit(X_train, y_train)\n",
    "\n",
    "model_gamma0.score(X_test, y_test)"
   ]
  },
  {
   "cell_type": "code",
   "execution_count": null,
   "id": "4b81631a-cd37-40cf-b23b-264a12929a92",
   "metadata": {},
   "outputs": [],
   "source": [
    "model_gamma1 = SVC(gamma= 1)\n",
    "\n",
    "model_gamma1.fit(X_train, y_train)\n",
    "\n",
    "model_gamma1.score(X_test, y_test)"
   ]
  },
  {
   "cell_type": "code",
   "execution_count": null,
   "id": "4ab8b8b3-2f4a-4a87-ae52-f44b9f2c01cf",
   "metadata": {},
   "outputs": [],
   "source": [
    "model_gamma2 = SVC(gamma= 1000)\n",
    "\n",
    "model_gamma2.fit(X_train, y_train)\n",
    "\n",
    "model_gamma2.score(X_test, y_test)"
   ]
  },
  {
   "cell_type": "code",
   "execution_count": null,
   "id": "fa051320-527f-4f30-b697-5c4374514e5d",
   "metadata": {},
   "outputs": [],
   "source": [
    "#Kernel"
   ]
  },
  {
   "cell_type": "code",
   "execution_count": null,
   "id": "46ff3224-7cf8-4dfd-a151-98c0744fa321",
   "metadata": {},
   "outputs": [],
   "source": [
    "model_linear = SVC(kernel= 'linear')\n",
    "\n",
    "model_linear.fit(X_train, y_train)\n",
    "\n",
    "model_linear.score(X_test, y_test)"
   ]
  },
  {
   "cell_type": "code",
   "execution_count": null,
   "id": "21fb203d-f5ae-4c3c-9c6f-504b7fd26273",
   "metadata": {},
   "outputs": [],
   "source": [
    "model_rbf = SVC(kernel= 'rbf')\n",
    "\n",
    "model_rbf.fit(X_train, y_train)\n",
    "\n",
    "model_rbf.score(X_test, y_test)"
   ]
  }
 ],
 "metadata": {
  "kernelspec": {
   "display_name": "Python 3 (ipykernel)",
   "language": "python",
   "name": "python3"
  },
  "language_info": {
   "codemirror_mode": {
    "name": "ipython",
    "version": 3
   },
   "file_extension": ".py",
   "mimetype": "text/x-python",
   "name": "python",
   "nbconvert_exporter": "python",
   "pygments_lexer": "ipython3",
   "version": "3.9.13"
  }
 },
 "nbformat": 4,
 "nbformat_minor": 5
}
