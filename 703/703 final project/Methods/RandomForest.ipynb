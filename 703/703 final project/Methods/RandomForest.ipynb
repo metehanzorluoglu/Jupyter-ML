{
 "cells": [
  {
   "cell_type": "code",
   "execution_count": 1,
   "id": "a9a3bcf1-6539-463a-afe4-59e188717bd5",
   "metadata": {},
   "outputs": [],
   "source": [
    "import pandas as pd\n",
    "from sklearn.model_selection import train_test_split\n",
    "from sklearn.metrics import classification_report\n",
    "from sklearn.metrics import mean_absolute_error, r2_score"
   ]
  },
  {
   "cell_type": "code",
   "execution_count": 2,
   "id": "fda69bb1-82e8-4e28-ae41-a9de6cb8a680",
   "metadata": {},
   "outputs": [],
   "source": [
    "from sklearn.ensemble import RandomForestClassifier"
   ]
  },
  {
   "cell_type": "code",
   "execution_count": 3,
   "id": "a45895d3-4fd7-49d6-ad78-5ee309d5ad71",
   "metadata": {},
   "outputs": [],
   "source": [
    "df = pd.read_csv('CleanElementry.csv', encoding = 'latin-1')\n",
    "\n",
    "#num_columns = df.shape[1]\n",
    "\n",
    "#X = df.iloc[:, 0:(num_columns - 1)]\n",
    "#y = df.iloc[:, (num_columns - 1)]\n",
    "\n",
    "X = df[['Pre_RI_Interest', 'Post_RI_Competence', 'Pre_RI_Competence', 'Post_Final', 'Pre_Final']]\n",
    "y = df['Post_RI_Interest']\n",
    "\n",
    "X_train, X_test, y_train, y_test = train_test_split(X, y, test_size=0.2, random_state=42)"
   ]
  },
  {
   "cell_type": "code",
   "execution_count": 4,
   "id": "11e11488-46c5-48bd-8743-d2468580c470",
   "metadata": {},
   "outputs": [
    {
     "name": "stdout",
     "output_type": "stream",
     "text": [
      "              precision    recall  f1-score   support\n",
      "\n",
      "           7       1.00      0.33      0.50         3\n",
      "           8       0.00      0.00      0.00         1\n",
      "           9       0.00      0.00      0.00         1\n",
      "          10       0.00      0.00      0.00         2\n",
      "          11       0.17      0.12      0.14         8\n",
      "          12       0.09      0.14      0.11         7\n",
      "          13       0.00      0.00      0.00         6\n",
      "          14       0.33      0.17      0.22        12\n",
      "          15       0.07      0.07      0.07        14\n",
      "          16       0.07      0.17      0.10         6\n",
      "          17       0.00      0.00      0.00         8\n",
      "          18       0.00      0.00      0.00         2\n",
      "          19       0.00      0.00      0.00         3\n",
      "          20       0.50      0.33      0.40         3\n",
      "          21       0.50      0.33      0.40         3\n",
      "\n",
      "    accuracy                           0.11        79\n",
      "   macro avg       0.18      0.11      0.13        79\n",
      "weighted avg       0.17      0.11      0.13        79\n",
      "\n"
     ]
    },
    {
     "name": "stderr",
     "output_type": "stream",
     "text": [
      "/opt/conda/lib/python3.11/site-packages/sklearn/metrics/_classification.py:1531: UndefinedMetricWarning: Precision is ill-defined and being set to 0.0 in labels with no predicted samples. Use `zero_division` parameter to control this behavior.\n",
      "  _warn_prf(average, modifier, f\"{metric.capitalize()} is\", len(result))\n",
      "/opt/conda/lib/python3.11/site-packages/sklearn/metrics/_classification.py:1531: UndefinedMetricWarning: Precision is ill-defined and being set to 0.0 in labels with no predicted samples. Use `zero_division` parameter to control this behavior.\n",
      "  _warn_prf(average, modifier, f\"{metric.capitalize()} is\", len(result))\n",
      "/opt/conda/lib/python3.11/site-packages/sklearn/metrics/_classification.py:1531: UndefinedMetricWarning: Precision is ill-defined and being set to 0.0 in labels with no predicted samples. Use `zero_division` parameter to control this behavior.\n",
      "  _warn_prf(average, modifier, f\"{metric.capitalize()} is\", len(result))\n"
     ]
    }
   ],
   "source": [
    "rf = RandomForestClassifier(random_state=42)\n",
    "rf.fit(X_train, y_train)\n",
    "y_pred = rf.predict(X_test)\n",
    "rf.score(X_test, y_test)\n",
    "print(classification_report(y_test, y_pred))\n",
    "\n",
    "#feature = pd.DataFrame(rf.feature_importances_, index = X.columns)\n",
    "#feature.head(1)"
   ]
  },
  {
   "cell_type": "code",
   "execution_count": 5,
   "id": "1ad2c905-a6a9-49d2-9bd6-a7f27425bbec",
   "metadata": {},
   "outputs": [
    {
     "name": "stdout",
     "output_type": "stream",
     "text": [
      "              precision    recall  f1-score   support\n",
      "\n",
      "           7       1.00      0.33      0.50         3\n",
      "           8       0.00      0.00      0.00         1\n",
      "           9       0.00      0.00      0.00         1\n",
      "          10       0.00      0.00      0.00         2\n",
      "          11       0.00      0.00      0.00         8\n",
      "          12       0.08      0.14      0.11         7\n",
      "          13       0.00      0.00      0.00         6\n",
      "          14       0.33      0.17      0.22        12\n",
      "          15       0.12      0.14      0.13        14\n",
      "          16       0.08      0.17      0.11         6\n",
      "          17       0.00      0.00      0.00         8\n",
      "          18       0.00      0.00      0.00         2\n",
      "          19       0.00      0.00      0.00         3\n",
      "          20       0.50      0.33      0.40         3\n",
      "          21       1.00      0.33      0.50         3\n",
      "\n",
      "    accuracy                           0.11        79\n",
      "   macro avg       0.21      0.11      0.13        79\n",
      "weighted avg       0.18      0.11      0.13        79\n",
      "\n"
     ]
    }
   ],
   "source": [
    "rf2 = RandomForestClassifier(\n",
    "    n_estimators= 1000,\n",
    "    criterion= 'entropy',\n",
    "    max_depth= 14,\n",
    "    random_state= 42\n",
    ")\n",
    "\n",
    "rf2.fit(X_train, y_train)\n",
    "rf2.score(X_test, y_test)\n",
    "y_pred2 = rf2.predict(X_test)\n",
    "\n",
    "print(classification_report(y_test, y_pred2))"
   ]
  },
  {
   "cell_type": "code",
   "execution_count": 6,
   "id": "85516bbb-ee58-4eb6-ba9e-7c656ad9ad69",
   "metadata": {},
   "outputs": [
    {
     "data": {
      "text/plain": [
       "0.2178952974717253"
      ]
     },
     "execution_count": 6,
     "metadata": {},
     "output_type": "execute_result"
    }
   ],
   "source": [
    "r2_new = r2_score(y_test, y_pred)\n",
    "r2_new2 = r2_score(y_test, y_pred2)\n",
    "r2_new"
   ]
  },
  {
   "cell_type": "code",
   "execution_count": 7,
   "id": "ae617c98-3e4c-463f-8f91-6df41fb524fa",
   "metadata": {},
   "outputs": [
    {
     "data": {
      "text/plain": [
       "0.16096995519909774"
      ]
     },
     "execution_count": 7,
     "metadata": {},
     "output_type": "execute_result"
    }
   ],
   "source": [
    "r2_new2"
   ]
  },
  {
   "cell_type": "code",
   "execution_count": null,
   "id": "652c84ea-a7c3-490d-9c55-f80dfcb503a4",
   "metadata": {},
   "outputs": [],
   "source": []
  }
 ],
 "metadata": {
  "kernelspec": {
   "display_name": "Python 3 (ipykernel)",
   "language": "python",
   "name": "python3"
  },
  "language_info": {
   "codemirror_mode": {
    "name": "ipython",
    "version": 3
   },
   "file_extension": ".py",
   "mimetype": "text/x-python",
   "name": "python",
   "nbconvert_exporter": "python",
   "pygments_lexer": "ipython3",
   "version": "3.11.9"
  }
 },
 "nbformat": 4,
 "nbformat_minor": 5
}
