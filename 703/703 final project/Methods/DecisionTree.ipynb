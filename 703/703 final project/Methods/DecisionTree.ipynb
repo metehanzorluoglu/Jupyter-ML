{
 "cells": [
  {
   "cell_type": "code",
   "execution_count": 29,
   "id": "4c539bb9-48ee-4140-850a-65fdf2c63de8",
   "metadata": {},
   "outputs": [],
   "source": [
    "import pandas as pd\n",
    "import matplotlib.pyplot as plt\n",
    "from sklearn.model_selection import train_test_split\n",
    "from sklearn.metrics import classification_report"
   ]
  },
  {
   "cell_type": "code",
   "execution_count": 30,
   "id": "24eb257a-5078-43b6-abf4-7828e901ce73",
   "metadata": {},
   "outputs": [],
   "source": [
    "from sklearn.tree import DecisionTreeClassifier"
   ]
  },
  {
   "cell_type": "code",
   "execution_count": 31,
   "id": "1be364aa-b58b-4c1e-91ec-18521080a17a",
   "metadata": {},
   "outputs": [],
   "source": [
    "df = pd.read_csv('CleanElementry.csv', encoding = 'latin-1')\n",
    "\n",
    "num_columns = df.shape[1]\n",
    "\n",
    "X = df.iloc[:, 0:(num_columns - 1)]\n",
    "y = df.iloc[:, (num_columns - 1)]\n",
    "\n",
    "X_train, X_test, y_train, y_test = train_test_split(X, y, random_state = 33, test_size = 0.2)"
   ]
  },
  {
   "cell_type": "code",
   "execution_count": 32,
   "id": "5c618e25-a5a6-43bc-87f7-58e990bae41b",
   "metadata": {},
   "outputs": [
    {
     "data": {
      "text/plain": [
       "0.3181818181818182"
      ]
     },
     "execution_count": 32,
     "metadata": {},
     "output_type": "execute_result"
    }
   ],
   "source": [
    "dtc = DecisionTreeClassifier()\n",
    "\n",
    "dtc.fit(X_train, y_train)\n",
    "\n",
    "dtc.score(X_test, y_test)"
   ]
  },
  {
   "cell_type": "code",
   "execution_count": 33,
   "id": "28faf33b-930e-42fb-8b9e-0bf441af6e41",
   "metadata": {},
   "outputs": [
    {
     "data": {
      "text/html": [
       "<div>\n",
       "<style scoped>\n",
       "    .dataframe tbody tr th:only-of-type {\n",
       "        vertical-align: middle;\n",
       "    }\n",
       "\n",
       "    .dataframe tbody tr th {\n",
       "        vertical-align: top;\n",
       "    }\n",
       "\n",
       "    .dataframe thead th {\n",
       "        text-align: right;\n",
       "    }\n",
       "</style>\n",
       "<table border=\"1\" class=\"dataframe\">\n",
       "  <thead>\n",
       "    <tr style=\"text-align: right;\">\n",
       "      <th></th>\n",
       "      <th>0</th>\n",
       "    </tr>\n",
       "  </thead>\n",
       "  <tbody>\n",
       "    <tr>\n",
       "      <th>Pre_RI_Interest</th>\n",
       "      <td>0.323425</td>\n",
       "    </tr>\n",
       "    <tr>\n",
       "      <th>Post_RI_Interest</th>\n",
       "      <td>0.324910</td>\n",
       "    </tr>\n",
       "    <tr>\n",
       "      <th>Pre_Final</th>\n",
       "      <td>0.351665</td>\n",
       "    </tr>\n",
       "  </tbody>\n",
       "</table>\n",
       "</div>"
      ],
      "text/plain": [
       "                         0\n",
       "Pre_RI_Interest   0.323425\n",
       "Post_RI_Interest  0.324910\n",
       "Pre_Final         0.351665"
      ]
     },
     "execution_count": 33,
     "metadata": {},
     "output_type": "execute_result"
    }
   ],
   "source": [
    "feature = pd.DataFrame(dtc.feature_importances_, index= X.columns)\n",
    "feature"
   ]
  },
  {
   "cell_type": "code",
   "execution_count": 34,
   "id": "188a29d1-105d-48fa-9545-af98c84896a2",
   "metadata": {},
   "outputs": [
    {
     "data": {
      "text/plain": [
       "0.36363636363636365"
      ]
     },
     "execution_count": 34,
     "metadata": {},
     "output_type": "execute_result"
    }
   ],
   "source": [
    "dtc2 = DecisionTreeClassifier(\n",
    "    criterion= 'entropy',\n",
    "    ccp_alpha= 0.04\n",
    ")\n",
    "\n",
    "dtc2.fit(X_train, y_train)\n",
    "\n",
    "dtc2.score(X_test, y_test)"
   ]
  },
  {
   "cell_type": "code",
   "execution_count": 35,
   "id": "db89a28d-421e-4067-86ca-3b36b7bb5ed5",
   "metadata": {},
   "outputs": [
    {
     "data": {
      "text/html": [
       "<div>\n",
       "<style scoped>\n",
       "    .dataframe tbody tr th:only-of-type {\n",
       "        vertical-align: middle;\n",
       "    }\n",
       "\n",
       "    .dataframe tbody tr th {\n",
       "        vertical-align: top;\n",
       "    }\n",
       "\n",
       "    .dataframe thead th {\n",
       "        text-align: right;\n",
       "    }\n",
       "</style>\n",
       "<table border=\"1\" class=\"dataframe\">\n",
       "  <thead>\n",
       "    <tr style=\"text-align: right;\">\n",
       "      <th></th>\n",
       "      <th>0</th>\n",
       "    </tr>\n",
       "  </thead>\n",
       "  <tbody>\n",
       "    <tr>\n",
       "      <th>Pre_RI_Interest</th>\n",
       "      <td>0.197614</td>\n",
       "    </tr>\n",
       "    <tr>\n",
       "      <th>Post_RI_Interest</th>\n",
       "      <td>0.302581</td>\n",
       "    </tr>\n",
       "    <tr>\n",
       "      <th>Pre_Final</th>\n",
       "      <td>0.499806</td>\n",
       "    </tr>\n",
       "  </tbody>\n",
       "</table>\n",
       "</div>"
      ],
      "text/plain": [
       "                         0\n",
       "Pre_RI_Interest   0.197614\n",
       "Post_RI_Interest  0.302581\n",
       "Pre_Final         0.499806"
      ]
     },
     "execution_count": 35,
     "metadata": {},
     "output_type": "execute_result"
    }
   ],
   "source": [
    "feature2 = pd.DataFrame(dtc2.feature_importances_, index= X.columns)\n",
    "feature2"
   ]
  },
  {
   "cell_type": "code",
   "execution_count": null,
   "id": "214a0d4a-093c-4c20-b7d8-8c28ccc2effb",
   "metadata": {},
   "outputs": [],
   "source": []
  }
 ],
 "metadata": {
  "kernelspec": {
   "display_name": "Python 3 (ipykernel)",
   "language": "python",
   "name": "python3"
  },
  "language_info": {
   "codemirror_mode": {
    "name": "ipython",
    "version": 3
   },
   "file_extension": ".py",
   "mimetype": "text/x-python",
   "name": "python",
   "nbconvert_exporter": "python",
   "pygments_lexer": "ipython3",
   "version": "3.9.13"
  }
 },
 "nbformat": 4,
 "nbformat_minor": 5
}
