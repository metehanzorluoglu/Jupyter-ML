{
 "cells": [
  {
   "cell_type": "code",
   "execution_count": 7,
   "id": "5d171a65-0973-4b91-9c73-5788cb4b62bf",
   "metadata": {},
   "outputs": [
    {
     "name": "stdout",
     "output_type": "stream",
     "text": [
      "Training Results\n",
      "Iterations: 10000, Target: [0.01, 0.99]\n",
      "+-----------------+-----------+----------+-------------+\n",
      "|   Learning Rate |        y1 |       y2 |       Error |\n",
      "+=================+===========+==========+=============+\n",
      "|            0.05 | 0.0196421 | 0.980617 | 9.05022e-05 |\n",
      "+-----------------+-----------+----------+-------------+\n",
      "|            0.5  | 0.0103959 | 0.989622 | 1.49873e-07 |\n",
      "+-----------------+-----------+----------+-------------+\n",
      "|            1    | 0.0100345 | 0.989969 | 1.08784e-09 |\n",
      "+-----------------+-----------+----------+-------------+\n"
     ]
    }
   ],
   "source": [
    "import numpy as np\n",
    "from tabulate import tabulate\n",
    "# Sigmoid Activation Function\n",
    "def sigmoid(x):\n",
    "    return 1 / (1 + np.exp(-x))\n",
    "# Parameters\n",
    "iterations = 10000 # Number of training iterations\n",
    "y = np.array([[0.01], [0.99]]) # Target outputs\n",
    "# Neural Network\n",
    "def train_network(learning_rate, iterations):\n",
    "    # Weights for Layer 1\n",
    "    W1 = np.array([\n",
    "    [0.35, 0.35],\n",
    "    [0.15, 0.25],\n",
    "    [0.20, 0.30]\n",
    "    ])\n",
    "    # Weights for Layer 2\n",
    "    W2 = np.array([\n",
    "    [0.60, 0.60],\n",
    "    [0.40, 0.50],\n",
    "    [0.45, 0.55]\n",
    "    ])\n",
    "    # Input Layer\n",
    "    X0 = np.array([[1], [0.05], [0.10]])\n",
    "    # Training\n",
    "    for iteration in range(iterations):\n",
    "        # Forward Propagation\n",
    "        S1 = np.dot(W1.T, X0) # Signals from Input Layer -> Hidden Layer\n",
    "        X1 = np.vstack(([1], sigmoid(S1))) # Hidden Layer\n",
    "        S2 = np.dot(W2.T, X1) # Signals from Hidden Layer -> Output Layer\n",
    "        X2 = sigmoid(S2) # Output Layer\n",
    "        # Backward Propagation\n",
    "        delta_2 = 2 * (X2 - y) * X2 * (1 - X2) # Output Layer Error\n",
    "        delta_1 = (X1[1:] * (1 - X1[1:])) * np.dot(W2[1:], delta_2) # Hidden Layer Error\n",
    "        # Update the weights\n",
    "        W2 -= learning_rate * np.dot(X1, delta_2.T)\n",
    "        W1 -= learning_rate * np.dot(X0, delta_1.T)\n",
    "    # Calculate how far the output is from the target on the last iteration\n",
    "    error = np.mean((y - X2) ** 2)\n",
    "    return learning_rate, X2[0, 0], X2[1, 0], error\n",
    "# Train\n",
    "results = []\n",
    "for eta in [0.05, 0.5, 1.0]:\n",
    "    results.append(train_network(learning_rate=eta, iterations=iterations))\n",
    "# Display results\n",
    "print(f\"Training Results\\nIterations: {iterations}, Target: [0.01, 0.99]\")\n",
    "headers = [\"Learning Rate\", \"y1\", \"y2\", \"Error\"]\n",
    "print(tabulate(results, headers=headers, tablefmt=\"grid\"))\n"
   ]
  },
  {
   "cell_type": "code",
   "execution_count": null,
   "id": "3eb1a18f-df73-43fd-ba02-a19c2689486c",
   "metadata": {},
   "outputs": [],
   "source": []
  }
 ],
 "metadata": {
  "kernelspec": {
   "display_name": "Python 3 (ipykernel)",
   "language": "python",
   "name": "python3"
  },
  "language_info": {
   "codemirror_mode": {
    "name": "ipython",
    "version": 3
   },
   "file_extension": ".py",
   "mimetype": "text/x-python",
   "name": "python",
   "nbconvert_exporter": "python",
   "pygments_lexer": "ipython3",
   "version": "3.11.9"
  }
 },
 "nbformat": 4,
 "nbformat_minor": 5
}
