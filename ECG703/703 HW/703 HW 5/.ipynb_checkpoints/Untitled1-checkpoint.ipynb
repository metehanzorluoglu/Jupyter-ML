{
 "cells": [
  {
   "cell_type": "code",
   "execution_count": null,
   "id": "bb264522-5569-451d-9738-c328a17c2bca",
   "metadata": {},
   "outputs": [],
   "source": [
    "import numpy as np\n",
    "\n",
    "# Inputs and outputs\n",
    "inputs = np.array([[0.05], [0.10]])\n",
    "inputs.shape\n",
    "inputs"
   ]
  },
  {
   "cell_type": "code",
   "execution_count": null,
   "id": "6666eff8-de64-44df-90b1-52c03d4ba71a",
   "metadata": {},
   "outputs": [],
   "source": [
    "output = np.array([[0.01], [0.99]])\n",
    "output.shape\n",
    "output"
   ]
  },
  {
   "cell_type": "code",
   "execution_count": null,
   "id": "116e1266-ba9c-4cfc-a981-67a7cbed0745",
   "metadata": {},
   "outputs": [],
   "source": [
    "# Initialize random weights and biases\n",
    "np.random.seed(42)  # Reproducibility\n",
    "weights = np.random.rand(1, 1)\n",
    "weights"
   ]
  },
  {
   "cell_type": "code",
   "execution_count": null,
   "id": "a9d1199c-2085-4f35-a1d7-f23fca00ca35",
   "metadata": {},
   "outputs": [],
   "source": [
    "bias = np.random.rand(1)\n",
    "bias = [1]\n",
    "bias"
   ]
  },
  {
   "cell_type": "code",
   "execution_count": 121,
   "id": "e7e4bb59-7939-4a86-9f34-673efb49f968",
   "metadata": {},
   "outputs": [
    {
     "name": "stdout",
     "output_type": "stream",
     "text": [
      "[[124.37900609]]\n",
      "[-9.41443997]\n"
     ]
    }
   ],
   "source": [
    "# Learning rates\n",
    "learning_rates = [0.05, 0.5, 1.0]\n",
    "iterations = 1000000  # Number of iterations\n",
    "\n",
    "# Sigmoid activation function\n",
    "def sigmoid_func(x):\n",
    "    return 1 / (1 + np.exp(-x))\n",
    "\n",
    "# Forward function with sigmoid\n",
    "def forward_sigmoid(x, w, b):\n",
    "    return sigmoid(np.dot(w, x) + b)\n",
    "\n",
    "def der (x):\n",
    "    return sigmoid_func(x) * (1 - sigmoid_func(x))\n",
    "\n",
    "for epochs in range(iterations): \n",
    "    input_arr = inputs \n",
    "    weighted_sum = np.dot (input_arr, weights) + bias \n",
    "    first_output = sigmoid_func(weighted_sum) \n",
    "    \n",
    "    error = first_output - output \n",
    "    total_error = np. square(np.subtract(first_output,output)) .mean() \n",
    "    #print (total_error) \n",
    "    \n",
    "    first_der = error \n",
    "    second_der = der (first_output) \n",
    "    derivative = first_der * second_der \n",
    "    \n",
    "    t_input = inputs.T \n",
    "    final_derivative = np.dot(t_input, derivative) \n",
    "    \n",
    "    #update weights \n",
    "    weights = weights - 0.05 * final_derivative \n",
    "    \n",
    "    #update bias \n",
    "    for i in derivative: \n",
    "        bias = bias - 0.05 * i \n",
    "print(weights) \n",
    "print(bias)"
   ]
  },
  {
   "cell_type": "code",
   "execution_count": null,
   "id": "84f46e6d-aea2-4fa0-a472-18212b939fc7",
   "metadata": {},
   "outputs": [],
   "source": [
    "pred = np.array([0.05]) \n",
    "result = np.dot(pred, weights) + bias \n",
    "res = sigmoid_func(result) \n",
    "print(res)"
   ]
  },
  {
   "cell_type": "code",
   "execution_count": null,
   "id": "62b45ed9-990c-4272-bb56-4e9f24c29b56",
   "metadata": {},
   "outputs": [],
   "source": []
  }
 ],
 "metadata": {
  "kernelspec": {
   "display_name": "Python 3 (ipykernel)",
   "language": "python",
   "name": "python3"
  },
  "language_info": {
   "codemirror_mode": {
    "name": "ipython",
    "version": 3
   },
   "file_extension": ".py",
   "mimetype": "text/x-python",
   "name": "python",
   "nbconvert_exporter": "python",
   "pygments_lexer": "ipython3",
   "version": "3.9.13"
  }
 },
 "nbformat": 4,
 "nbformat_minor": 5
}
