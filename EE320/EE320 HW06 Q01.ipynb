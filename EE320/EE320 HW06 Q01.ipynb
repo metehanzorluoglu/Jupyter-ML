{
 "cells": [
  {
   "cell_type": "code",
   "execution_count": 57,
   "id": "9e9f85b0-cae5-46ff-8db1-1ccd5fb70aa3",
   "metadata": {},
   "outputs": [],
   "source": [
    "import numpy as np\n",
    "\n",
    "# Constants\n",
    "B = 5.4e31  # B constant in cm^-6 K^-3\n",
    "Eg = 1.12  # Band gap energy in eV\n",
    "k = 8.62e-5  # Boltzmann constant in eV/K\n",
    "silicon_atom_density = 5e22 # Silicon atoms/cm^3"
   ]
  },
  {
   "cell_type": "code",
   "execution_count": 58,
   "id": "2a065c57-3b86-4e81-b154-c03a41bca35f",
   "metadata": {},
   "outputs": [],
   "source": [
    "# Calculate ni for a range of temperatures (in Kelvin)\n",
    "temperatures = [218, 273, 293, 348, 398]  # Temperatures in K"
   ]
  },
  {
   "cell_type": "code",
   "execution_count": 59,
   "id": "67aa9d11-ccfd-41ee-aa37-b9d8bc2f8978",
   "metadata": {},
   "outputs": [],
   "source": [
    "# Function to calculate ni based on the formula\n",
    "def calculate_ni(T):\n",
    "    ni_squared = B * np.power(T, 3) * np.exp(-Eg / (k * T))\n",
    "    ni = np.sqrt(ni_squared)\n",
    "    return ni\n"
   ]
  },
  {
   "cell_type": "code",
   "execution_count": 60,
   "id": "84e92b52-9e01-4bf9-aca6-dd7c311b2f74",
   "metadata": {},
   "outputs": [
    {
     "data": {
      "text/plain": [
       "[np.float64(2701889.31031137),\n",
       " np.float64(1533319107.5652983),\n",
       " np.float64(8652421611.302471),\n",
       " np.float64(372466157533.0005),\n",
       " np.float64(4754119174490.268)]"
      ]
     },
     "execution_count": 60,
     "metadata": {},
     "output_type": "execute_result"
    }
   ],
   "source": [
    "# Calculate ni for each temperature\n",
    "ni_values = [calculate_ni(T) for T in temperatures]\n",
    "\n",
    "ni_values"
   ]
  },
  {
   "cell_type": "code",
   "execution_count": 61,
   "id": "2cf6beab-51b5-4dd5-986d-7885722d3cc9",
   "metadata": {},
   "outputs": [
    {
     "data": {
      "text/plain": [
       "[np.float64(5.4037786206227406e-17),\n",
       " np.float64(3.066638215130597e-14),\n",
       " np.float64(1.7304843222604943e-13),\n",
       " np.float64(7.44932315066001e-12),\n",
       " np.float64(9.508238348980535e-11)]"
      ]
     },
     "execution_count": 61,
     "metadata": {},
     "output_type": "execute_result"
    }
   ],
   "source": [
    "# Function to calculate fraction of the silicon on the formula\n",
    "def fraction_ion(ni):\n",
    "    fraction_sil = ni / silicon_atom_density\n",
    "    return fraction_sil\n",
    "\n",
    "# Calculate fraction for each ni\n",
    "fraction_values = [fraction_ion(ni) for ni in ni_values]\n",
    "\n",
    "fraction_values"
   ]
  },
  {
   "cell_type": "code",
   "execution_count": 62,
   "id": "c9419d1a-823d-49a0-9fc5-7bd6ab47672a",
   "metadata": {},
   "outputs": [
    {
     "name": "stdout",
     "output_type": "stream",
     "text": [
      "Temperature: 218 K, ni: 2.7019e+06 cm^-3, Fraction of the silicon: 5.404e-17\n",
      "Temperature: 273 K, ni: 1.5333e+09 cm^-3, Fraction of the silicon: 3.067e-14\n",
      "Temperature: 293 K, ni: 8.6524e+09 cm^-3, Fraction of the silicon: 1.730e-13\n",
      "Temperature: 348 K, ni: 3.7247e+11 cm^-3, Fraction of the silicon: 7.449e-12\n",
      "Temperature: 398 K, ni: 4.7541e+12 cm^-3, Fraction of the silicon: 9.508e-11\n"
     ]
    }
   ],
   "source": [
    "# Display the results\n",
    "for T, ni, frac in zip(temperatures, ni_values, fraction_values):\n",
    "    print(f\"Temperature: {T} K, ni: {ni:.4e} cm^-3, Fraction of the silicon: {frac:.3e}\")"
   ]
  }
 ],
 "metadata": {
  "kernelspec": {
   "display_name": "Python 3 (ipykernel)",
   "language": "python",
   "name": "python3"
  },
  "language_info": {
   "codemirror_mode": {
    "name": "ipython",
    "version": 3
   },
   "file_extension": ".py",
   "mimetype": "text/x-python",
   "name": "python",
   "nbconvert_exporter": "python",
   "pygments_lexer": "ipython3",
   "version": "3.11.9"
  }
 },
 "nbformat": 4,
 "nbformat_minor": 5
}
